{
 "cells": [
  {
   "cell_type": "code",
   "execution_count": 26,
   "metadata": {},
   "outputs": [
    {
     "name": "stdout",
     "output_type": "stream",
     "text": [
      "Requirement already satisfied: opencv-python in c:\\users\\laura\\.conda\\envs\\tensorflow\\lib\\site-packages (4.7.0.72)\n",
      "Requirement already satisfied: numpy>=1.19.3 in c:\\users\\laura\\.conda\\envs\\tensorflow\\lib\\site-packages (from opencv-python) (1.24.3)\n",
      "Note: you may need to restart the kernel to use updated packages.\n"
     ]
    }
   ],
   "source": [
    "pip install opencv-python"
   ]
  },
  {
   "cell_type": "code",
   "execution_count": 27,
   "metadata": {
    "executionInfo": {
     "elapsed": 6488,
     "status": "ok",
     "timestamp": 1682790537595,
     "user": {
      "displayName": "Hong Shi",
      "userId": "02997791451162131899"
     },
     "user_tz": 300
    },
    "id": "Tuyr1b5rVhWB"
   },
   "outputs": [],
   "source": [
    "# download packages\n",
    "\n",
    "from tensorflow.keras import models,layers\n",
    "import matplotlib.pyplot as plt\n",
    "from tensorflow.keras.preprocessing import image\n",
    "from tensorflow.keras.preprocessing.image import ImageDataGenerator, load_img\n",
    "from tensorflow.keras.models import Sequential\n",
    "import tensorflow as tf\n",
    "import os\n",
    "import cv2\n",
    "\n",
    "import numpy as np\n",
    "from glob import glob"
   ]
  },
  {
   "cell_type": "code",
   "execution_count": 8,
   "metadata": {
    "colab": {
     "base_uri": "https://localhost:8080/"
    },
    "executionInfo": {
     "elapsed": 19786,
     "status": "ok",
     "timestamp": 1682790559504,
     "user": {
      "displayName": "Hong Shi",
      "userId": "02997791451162131899"
     },
     "user_tz": 300
    },
    "id": "09J6VKI3VsCz",
    "outputId": "6447ceb9-04ae-42fd-a997-96f15ed86788"
   },
   "outputs": [],
   "source": [
    "# connect with the google drive\n",
    "#from google.colab import drive\n",
    "# drive.mount('/content/drive')"
   ]
  },
  {
   "cell_type": "code",
   "execution_count": 9,
   "metadata": {
    "colab": {
     "base_uri": "https://localhost:8080/",
     "height": 35
    },
    "executionInfo": {
     "elapsed": 382,
     "status": "ok",
     "timestamp": 1682790571146,
     "user": {
      "displayName": "Hong Shi",
      "userId": "02997791451162131899"
     },
     "user_tz": 300
    },
    "id": "u73KjCNsXW9b",
    "outputId": "5c0ffe2f-ac16-41af-93c7-516c60f20920"
   },
   "outputs": [
    {
     "data": {
      "text/plain": [
       "'/content/drive/MyDrive/Data Science/PlantDataset2'"
      ]
     },
     "execution_count": 9,
     "metadata": {},
     "output_type": "execute_result"
    }
   ],
   "source": [
    "# read the file from google drive\n",
    "#plantdataset='/content/drive/MyDrive/Data Science/PlantDataset2'\n",
    "#plantdataset"
   ]
  },
  {
   "cell_type": "markdown",
   "metadata": {
    "id": "VJzZ0V-XYWy5"
   },
   "source": [
    "Because this dataset has been divided into three sets: training, testing, and validation. So we don't need to split dataset into traning,testing and validation set.\n",
    "\n"
   ]
  },
  {
   "cell_type": "code",
   "execution_count": 10,
   "metadata": {
    "colab": {
     "base_uri": "https://localhost:8080/",
     "height": 35
    },
    "executionInfo": {
     "elapsed": 185,
     "status": "ok",
     "timestamp": 1682790573379,
     "user": {
      "displayName": "Hong Shi",
      "userId": "02997791451162131899"
     },
     "user_tz": 300
    },
    "id": "QUZf7gO2X8YC",
    "outputId": "22fc81a4-3719-49bb-8c73-7337f70ef973"
   },
   "outputs": [
    {
     "data": {
      "text/plain": [
       "'/content/drive/MyDrive/Data Science/PlantDataset2/Train'"
      ]
     },
     "execution_count": 10,
     "metadata": {},
     "output_type": "execute_result"
    }
   ],
   "source": [
    "#train_set='/content/drive/MyDrive/Data Science/PlantDataset2/Train'\n",
    "#train_set"
   ]
  },
  {
   "cell_type": "code",
   "execution_count": 11,
   "metadata": {
    "colab": {
     "base_uri": "https://localhost:8080/",
     "height": 35
    },
    "executionInfo": {
     "elapsed": 181,
     "status": "ok",
     "timestamp": 1682790596221,
     "user": {
      "displayName": "Hong Shi",
      "userId": "02997791451162131899"
     },
     "user_tz": 300
    },
    "id": "d-QIidc2YFOO",
    "outputId": "11aefd73-9055-4341-8dc7-7449cb04fd2b"
   },
   "outputs": [
    {
     "data": {
      "text/plain": [
       "'/content/drive/MyDrive/Data Science/PlantDataset2/Test'"
      ]
     },
     "execution_count": 11,
     "metadata": {},
     "output_type": "execute_result"
    }
   ],
   "source": [
    "#test_set='/content/drive/MyDrive/Data Science/PlantDataset2/Test'\n",
    "#test_set"
   ]
  },
  {
   "cell_type": "code",
   "execution_count": 12,
   "metadata": {
    "colab": {
     "base_uri": "https://localhost:8080/",
     "height": 35
    },
    "executionInfo": {
     "elapsed": 5,
     "status": "ok",
     "timestamp": 1682790597026,
     "user": {
      "displayName": "Hong Shi",
      "userId": "02997791451162131899"
     },
     "user_tz": 300
    },
    "id": "kAB1tFplYLMO",
    "outputId": "9e59b26c-8680-4bd1-f120-ed6f8cb6aaf1"
   },
   "outputs": [
    {
     "data": {
      "text/plain": [
       "'/content/drive/MyDrive/Data Science/PlantDataset2/Validation'"
      ]
     },
     "execution_count": 12,
     "metadata": {},
     "output_type": "execute_result"
    }
   ],
   "source": [
    "#val_set='/content/drive/MyDrive/Data Science/PlantDataset2/Validation'\n",
    "#val_set"
   ]
  },
  {
   "cell_type": "code",
   "execution_count": 29,
   "metadata": {},
   "outputs": [],
   "source": [
    "# read the image file\n",
    "\n",
    "dataset_url=\"C:/Users/Laura/Documents/Data Science/UoM/Machine Learning COMP7745/project/MachineLearningProject/dataset\"\n",
    "\n"
   ]
  },
  {
   "cell_type": "code",
   "execution_count": null,
   "metadata": {},
   "outputs": [],
   "source": []
  },
  {
   "cell_type": "code",
   "execution_count": null,
   "metadata": {},
   "outputs": [],
   "source": []
  },
  {
   "cell_type": "markdown",
   "metadata": {
    "id": "2vjrwK7NXndH"
   },
   "source": [
    "# New Section"
   ]
  },
  {
   "cell_type": "code",
   "execution_count": 39,
   "metadata": {
    "executionInfo": {
     "elapsed": 1030,
     "status": "ok",
     "timestamp": 1682790600018,
     "user": {
      "displayName": "Hong Shi",
      "userId": "02997791451162131899"
     },
     "user_tz": 300
    },
    "id": "_YFJ4SboY4Ar"
   },
   "outputs": [],
   "source": [
    "from zmq.constants import CHANNEL\n",
    "# set up the size value of image and batch\n",
    "IMAGE_SIZE=(4000,2672) \n",
    "BATCH_SIZE=50\n",
    "CHANNEL=3\n",
    "EPOCHS=20"
   ]
  },
  {
   "cell_type": "code",
   "execution_count": 40,
   "metadata": {
    "colab": {
     "base_uri": "https://localhost:8080/"
    },
    "executionInfo": {
     "elapsed": 8473,
     "status": "ok",
     "timestamp": 1682790609938,
     "user": {
      "displayName": "Hong Shi",
      "userId": "02997791451162131899"
     },
     "user_tz": 300
    },
    "id": "Ay-Vc4ggpX-m",
    "outputId": "a6177ef3-2ac7-4eed-e91c-7d61ec96592f"
   },
   "outputs": [
    {
     "name": "stdout",
     "output_type": "stream",
     "text": [
      "Found 1532 files belonging to 3 classes.\n"
     ]
    }
   ],
   "source": [
    "# create a images datasets\n",
    "dataset=tf.keras.preprocessing.image_dataset_from_directory(\n",
    "    \"C:/Users/Laura/Documents/Data Science/UoM/Machine Learning COMP7745/project/MachineLearningProject/dataset/train\",\n",
    "    shuffle=True,\n",
    "    image_size=(4000,2672),\n",
    "    batch_size=BATCH_SIZE\n",
    ")\n"
   ]
  },
  {
   "cell_type": "code",
   "execution_count": 41,
   "metadata": {
    "colab": {
     "base_uri": "https://localhost:8080/"
    },
    "executionInfo": {
     "elapsed": 702,
     "status": "ok",
     "timestamp": 1682790623856,
     "user": {
      "displayName": "Hong Shi",
      "userId": "02997791451162131899"
     },
     "user_tz": 300
    },
    "id": "4eABUpxkxzwz",
    "outputId": "3d52ec2e-fd9e-4c78-abca-d90145fb4452"
   },
   "outputs": [
    {
     "data": {
      "text/plain": [
       "['Test', 'Train', 'Validation']"
      ]
     },
     "execution_count": 41,
     "metadata": {},
     "output_type": "execute_result"
    }
   ],
   "source": [
    "class_names=dataset.class_names\n",
    "class_names"
   ]
  },
  {
   "cell_type": "code",
   "execution_count": null,
   "metadata": {
    "id": "FpVQjX4r0DAn"
   },
   "outputs": [],
   "source": [
    "for image_batch, label_batch in dataset.take(1): \n",
    "  print(image_batch.shape)\n",
    "  print(label_batch.numpy()) "
   ]
  },
  {
   "cell_type": "code",
   "execution_count": null,
   "metadata": {
    "id": "FR14nEVO0EQg"
   },
   "outputs": [],
   "source": [
    "for image_batch, label_batch in dataset.take(1):\n",
    "  print(image_batch[0].shape)"
   ]
  },
  {
   "cell_type": "code",
   "execution_count": null,
   "metadata": {
    "id": "3VWEmOug96TU"
   },
   "outputs": [],
   "source": [
    "for image_batch, label_batch in dataset.take(1):\n",
    "  print(image_batch[0].numpy())"
   ]
  },
  {
   "cell_type": "code",
   "execution_count": null,
   "metadata": {
    "id": "7GbKV5vipHtd"
   },
   "outputs": [],
   "source": [
    "# visulaize the first 16 images of training set\n",
    "for image_batch, label_batch in dataset.take(1):\n",
    "  for i in range(16):\n",
    "    ax=plt.subplot(4,4,i+1)   #4 rows and 4 columns\n",
    "    plt.imshow(image_batch[i].numpy().astype(\"uint8\"))\n",
    "    plt.title(class_names[label_batch[i]])\n",
    "    plt.axis(\"off\")"
   ]
  },
  {
   "cell_type": "code",
   "execution_count": null,
   "metadata": {
    "id": "TTS4O13XzY5I"
   },
   "outputs": [],
   "source": []
  },
  {
   "cell_type": "code",
   "execution_count": null,
   "metadata": {
    "id": "sYGfTUce0LJw"
   },
   "outputs": [],
   "source": [
    "data_augmentation=tf.keras.Sequential([\n",
    "    layers.experimental.preprocessing.RandomFlip(\"horizontal_and_vertical\"), #creates a layer that randomly flips the input images horizontally and/or vertically with a probability of 0.5.\n",
    "    layers.experimental.preprocessing.RandomRotation(0.2)    #creates a layer that randomly rotates the input images by a factor of up to 0.2 radians (about 11.5 degrees) in either direction.\n",
    "])"
   ]
  },
  {
   "cell_type": "code",
   "execution_count": null,
   "metadata": {
    "id": "Z-IVgoNI0QP5"
   },
   "outputs": [],
   "source": [
    "from keras.api._v2.keras import activations\n",
    "# build a model\n",
    "input_shape=(BATCH_SIZE,IMAGE_SIZE,IMAGE_SIZE,CHANNEL)\n",
    "n_classes=3\n",
    "\n",
    "model=models.Sequential([\n",
    "    layers.experimental.preprocessing.Rescaling(1.0/255, input_shape=(4000, 2672,3)),   # lenth, width, color\n",
    "    #data_augmentation,\n",
    "    layers.Conv2D(32,(3,3),activation=\"relu\",input_shape=input_shape),\n",
    "    layers.MaxPool2D((2,2)),\n",
    "    layers.Conv2D(64,kernel_size=(3,3),activation=\"relu\"),\n",
    "    layers.MaxPool2D((2,2)),\n",
    "    layers.Conv2D(64,kernel_size=(3,3),activation=\"relu\"),\n",
    "    layers.MaxPool2D((2,2)),\n",
    "    layers.Conv2D(64,kernel_size=(3,3),activation=\"relu\"),\n",
    "    layers.MaxPool2D((2,2)),\n",
    "    layers.Conv2D(64,kernel_size=(3,3),activation=\"relu\"),\n",
    "    layers.MaxPool2D((2,2)),\n",
    "    layers.Conv2D(64,kernel_size=(3,3),activation=\"relu\"),\n",
    "    layers.MaxPool2D((2,2)),\n",
    "    layers.Flatten(),\n",
    "    layers.Dense(64,activation=\"relu\"),\n",
    "    layers.Dense(n_classes,activation=\"softmax\"),\n",
    "\n",
    "]\n",
    "    \n",
    ")\n",
    "\n",
    "model.build(input_shape=input_shape)"
   ]
  },
  {
   "cell_type": "code",
   "execution_count": null,
   "metadata": {
    "id": "xFT0ApkI0UKB"
   },
   "outputs": [],
   "source": [
    "model.summary()"
   ]
  },
  {
   "cell_type": "code",
   "execution_count": null,
   "metadata": {
    "id": "nHS0WMNP0WQJ"
   },
   "outputs": [],
   "source": [
    "model.compile(\n",
    "    optimizer='adam',\n",
    "    loss=tf.keras.losses.SparseCategoricalCrossentropy(from_logits=False),\n",
    "    metrics=['accuracy']\n",
    ")"
   ]
  },
  {
   "cell_type": "code",
   "execution_count": null,
   "metadata": {
    "id": "30WPVgtv0Znh"
   },
   "outputs": [],
   "source": [
    "history=model.fit(\n",
    "    train_set,\n",
    "    epochs=EPOCHS,\n",
    "    batch_size=BATCH_SIZE,\n",
    "    verbose=1,\n",
    "    validation_data=val_set\n",
    " \n",
    ")"
   ]
  },
  {
   "cell_type": "code",
   "execution_count": null,
   "metadata": {
    "id": "Yh-oJZ1Y0g4Z"
   },
   "outputs": [],
   "source": [
    "scores=model.evaluate(test_set)\n",
    "scores"
   ]
  },
  {
   "cell_type": "code",
   "execution_count": null,
   "metadata": {
    "id": "ItKD04Sk0jxy"
   },
   "outputs": [],
   "source": [
    "history"
   ]
  },
  {
   "cell_type": "code",
   "execution_count": null,
   "metadata": {
    "id": "2-egzJWS0mJD"
   },
   "outputs": [],
   "source": [
    "history.params"
   ]
  },
  {
   "cell_type": "code",
   "execution_count": null,
   "metadata": {
    "id": "XIq4DdeB0ohi"
   },
   "outputs": [],
   "source": [
    "history.history.keys()"
   ]
  },
  {
   "cell_type": "code",
   "execution_count": null,
   "metadata": {
    "id": "_vP4_vAi0rDy"
   },
   "outputs": [],
   "source": [
    "history.history['accuracy']"
   ]
  },
  {
   "cell_type": "code",
   "execution_count": null,
   "metadata": {
    "id": "xun-bf-Z0tPc"
   },
   "outputs": [],
   "source": [
    "accuracy=history.history['accuracy']\n",
    "validation_accuracy=history.history['val_accuracy']\n",
    "loss=history.history['loss']\n",
    "val_loss=history.history['val_loss']"
   ]
  },
  {
   "cell_type": "code",
   "execution_count": null,
   "metadata": {
    "id": "OOvAKF0o0vlt"
   },
   "outputs": [],
   "source": [
    "# visulaize the training and validation accuracy \n",
    "plt.figure(figsize=(8,8))\n",
    "plt.subplot(1,2,1)\n",
    "plt.plot(range(EPOCHS),accuracy,label='Training Accuracy')\n",
    "plt.plot(range(EPOCHS),validation_accuracy, label='Validation Accuracy')\n",
    "plt.legend(loc='lower right')\n",
    "plt.title('Trianing and Validation Accuracy')\n",
    "plt.show()"
   ]
  },
  {
   "cell_type": "code",
   "execution_count": null,
   "metadata": {
    "id": "KxeXAZdB0xoC"
   },
   "outputs": [],
   "source": [
    "# visulaize the loss of training and validation \n",
    "plt.figure(figsize=(8,8))\n",
    "plt.subplot(1,2,1)\n",
    "plt.plot(range(EPOCHS),loss,label='Training Loss')\n",
    "plt.plot(range(EPOCHS),val_loss, label='Validation Loss')\n",
    "plt.legend(loc='upper right')\n",
    "plt.title('Trianing and Validation Loss')\n",
    "plt.show()"
   ]
  },
  {
   "cell_type": "code",
   "execution_count": null,
   "metadata": {
    "id": "Uie77Jpe0zzq"
   },
   "outputs": [],
   "source": [
    "# save model\n",
    "import pickle\n",
    "with open('model_plant_CNN','wb') as f:\n",
    "  pickle.dump(model,f)\n"
   ]
  }
 ],
 "metadata": {
  "accelerator": "GPU",
  "colab": {
   "authorship_tag": "ABX9TyONWigrGU1SzOLIwPk/xksC",
   "provenance": []
  },
  "gpuClass": "standard",
  "kernelspec": {
   "display_name": "Python 3 (ipykernel)",
   "language": "python",
   "name": "python3"
  },
  "language_info": {
   "codemirror_mode": {
    "name": "ipython",
    "version": 3
   },
   "file_extension": ".py",
   "mimetype": "text/x-python",
   "name": "python",
   "nbconvert_exporter": "python",
   "pygments_lexer": "ipython3",
   "version": "3.10.11"
  }
 },
 "nbformat": 4,
 "nbformat_minor": 1
}
